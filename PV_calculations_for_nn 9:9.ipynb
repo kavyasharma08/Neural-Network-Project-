{
  "nbformat": 4,
  "nbformat_minor": 0,
  "metadata": {
    "colab": {
      "provenance": []
    },
    "kernelspec": {
      "name": "python3",
      "display_name": "Python 3"
    },
    "language_info": {
      "name": "python"
    }
  },
  "cells": [
    {
      "cell_type": "code",
      "source": [
        "import pandas as pd\n",
        "ghi_df = pd.read_csv('/content/drive/MyDrive/predicted_ghi.csv')\n",
        "print(ghi_df)"
      ],
      "metadata": {
        "colab": {
          "base_uri": "https://localhost:8080/"
        },
        "id": "JWZzSvIlHas-",
        "outputId": "b8c2949a-fd43-4b10-d944-a60478863c4d"
      },
      "execution_count": 1,
      "outputs": [
        {
          "output_type": "stream",
          "name": "stdout",
          "text": [
            "    hour  predicted_ghi\n",
            "0      0       0.000000\n",
            "1      1       0.000000\n",
            "2      2       0.000000\n",
            "3      3       0.000000\n",
            "4      4       0.000000\n",
            "5      5       0.000000\n",
            "6      6       0.000000\n",
            "7      7      32.356323\n",
            "8      8     166.783000\n",
            "9      9     363.690770\n",
            "10    10     565.431340\n",
            "11    11     717.242200\n",
            "12    12     814.543460\n",
            "13    13     850.116460\n",
            "14    14     839.115840\n",
            "15    15     724.294600\n",
            "16    16     574.120800\n",
            "17    17     386.879500\n",
            "18    18     178.811360\n",
            "19    19      26.838867\n",
            "20    20       0.000000\n",
            "21    21       0.000000\n",
            "22    22       0.000000\n",
            "23    23       0.000000\n"
          ]
        }
      ]
    },
    {
      "cell_type": "code",
      "source": [
        "import pandas as pd\n",
        "load_df = pd.read_csv('/content/drive/MyDrive/predicted_load.csv')\n",
        "print(load_df)"
      ],
      "metadata": {
        "colab": {
          "base_uri": "https://localhost:8080/"
        },
        "id": "Wowjk1BHISDZ",
        "outputId": "3abd1855-c087-421a-8c77-dfa42e721eee"
      },
      "execution_count": 2,
      "outputs": [
        {
          "output_type": "stream",
          "name": "stdout",
          "text": [
            "    hour  predicted_load\n",
            "0      0       9038.2750\n",
            "1      1       8400.0940\n",
            "2      2       7892.3057\n",
            "3      3       7499.4463\n",
            "4      4       7286.5312\n",
            "5      5       7377.3250\n",
            "6      6       7568.6230\n",
            "7      7       7934.2160\n",
            "8      8       8207.3660\n",
            "9      9       8498.2300\n",
            "10    10       8889.9610\n",
            "11    11       9299.4280\n",
            "12    12       9929.6820\n",
            "13    13      10527.5240\n",
            "14    14      11129.7350\n",
            "15    15      11581.5110\n",
            "16    16      11845.1910\n",
            "17    17      11681.1800\n",
            "18    18      11860.1310\n",
            "19    19      11825.5770\n",
            "20    20      11546.1520\n",
            "21    21      11289.1290\n",
            "22    22      10586.7810\n",
            "23    23       9968.5205\n"
          ]
        }
      ]
    },
    {
      "cell_type": "code",
      "execution_count": 27,
      "metadata": {
        "colab": {
          "base_uri": "https://localhost:8080/"
        },
        "id": "oaIkI9hADRgU",
        "outputId": "b5b098d0-bbf7-48fc-a341-f2a2ed492080"
      },
      "outputs": [
        {
          "output_type": "stream",
          "name": "stdout",
          "text": [
            "Solar PV Plant Size 357874943.0 m²\n",
            "\n",
            "0: Shorage of -9038.275 MWh\n",
            "1: Shorage of -8400.094 MWh\n",
            "2: Shorage of -7892.3057 MWh\n",
            "3: Shorage of -7499.4463 MWh\n",
            "4: Shorage of -7286.5312 MWh\n",
            "5: Shorage of -7377.325 MWh\n",
            "6: Shorage of -7568.623 MWh\n",
            "7: The Solar PV output: 2384.593146185852 MWh, Actual load: 7934.216 MWh, Shortage of -5549.622853814148 MWh\n",
            "8: The Solar PV output: 12291.557316333965 MWh, Actual load: 8207.366 MWh, Surplus of 4084.191316333965 MWh\n",
            "9: The Solar PV output: 26803.24700285181 MWh, Actual load: 8498.23 MWh, Surplus of 18305.01700285181 MWh\n",
            "10: The Solar PV output: 41671.10391383725 MWh, Actual load: 8889.961 MWh, Surplus of 32781.14291383725 MWh\n",
            "11: The Solar PV output: 52859.24591231403 MWh, Actual load: 9299.428 MWh, Surplus of 43559.81791231403 MWh\n",
            "12: The Solar PV output: 60030.14471040204 MWh, Actual load: 9929.682 MWh, Surplus of 50100.46271040204 MWh\n",
            "13: The Solar PV output: 62651.80020535024 MWh, Actual load: 10527.524 MWh, Surplus of 52124.276205350245 MWh\n",
            "14: The Solar PV output: 61841.07758226991 MWh, Actual load: 11129.735 MWh, Surplus of 50711.34258226991 MWh\n",
            "15: The Solar PV output: 53378.99300175187 MWh, Actual load: 11581.511 MWh, Surplus of 41797.48200175187 MWh\n",
            "16: The Solar PV output: 42311.49889197047 MWh, Actual load: 11845.191 MWh, Surplus of 30466.30789197047 MWh\n",
            "17: The Solar PV output: 28512.20777156321 MWh, Actual load: 11681.18 MWh, Surplus of 16831.02777156321 MWh\n",
            "18: The Solar PV output: 13178.022221998806 MWh, Actual load: 11860.131 MWh, Surplus of 1317.891221998807 MWh\n",
            "19: The Solar PV output: 1977.9682104049227 MWh, Actual load: 11825.577 MWh, Shortage of -9847.608789595077 MWh\n",
            "20: Shorage of -11546.152 MWh\n",
            "21: Shorage of -11289.129 MWh\n",
            "22: Shorage of -10586.781 MWh\n"
          ]
        }
      ],
      "source": [
        "'''Finding the Final Solar Photovoltaic Plant in m²'''\n",
        "PV_plant_sizes_m2 = []\n",
        "for hour in range(23):\n",
        "\n",
        "  load_for_the_hour_Wh = (load_df.iloc[hour,1]) * 1000000\n",
        "  hour_GHI_Wh_m2 = (ghi_df.iloc[hour,1])\n",
        "  PV_with_bonus = 0.20 * 1.31\n",
        "  PR = 0.786\n",
        "\n",
        "  if hour_GHI_Wh_m2 > 0:\n",
        "    plant_size_m2 = (load_for_the_hour_Wh) / (hour_GHI_Wh_m2 * PV_with_bonus * PR)\n",
        "    PV_plant_sizes_m2.append(plant_size_m2)\n",
        "\n",
        "final_PV_plant_m2 = 0\n",
        "for x in PV_plant_sizes_m2:\n",
        "  final_PV_plant_m2 += x\n",
        "final_PV_plant_m2 = final_PV_plant_m2 // (len(PV_plant_sizes_m2))\n",
        "\n",
        "print(f'Solar PV Plant Size {final_PV_plant_m2} m²\\n')\n",
        "\n",
        "\n",
        "'''Hourly Solar Photovoltaic Output & Surplus/Shortage Calculations'''\n",
        "for hour in range(23):\n",
        "  load_for_the_hour_Wh = (load_df.iloc[hour,1]) * 1000000\n",
        "  hour_GHI_Wh_m2 = (ghi_df.iloc[hour,1])\n",
        "\n",
        "  if hour_GHI_Wh_m2 > 0:\n",
        "    hour_PV_output_MWh = (hour_GHI_Wh_m2 * PV_with_bonus * PR * final_PV_plant_m2) / 1000000\n",
        "    diff = hour_PV_output_MWh - (load_for_the_hour_Wh / 1000000)\n",
        "    print(\n",
        "        f\"{hour}: The Solar PV output: {hour_PV_output_MWh} MWh, \"\n",
        "        f\"Actual load: {load_for_the_hour_Wh / 1000000} MWh, \"\n",
        "        f\"{'Surplus of ' if diff >= 0 else 'Shortage of -'}{abs(diff)} MWh\"\n",
        "    )\n",
        "\n",
        "  else:\n",
        "    print(f'{hour}: Shorage of -{load_for_the_hour_Wh / 1000000} MWh')\n"
      ]
    }
  ]
}