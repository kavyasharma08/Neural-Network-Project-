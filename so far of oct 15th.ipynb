{
  "nbformat": 4,
  "nbformat_minor": 0,
  "metadata": {
    "colab": {
      "provenance": [],
      "collapsed_sections": [
        "FMtI_LWdSRRs"
      ]
    },
    "kernelspec": {
      "name": "python3",
      "display_name": "Python 3"
    },
    "language_info": {
      "name": "python"
    }
  },
  "cells": [
    {
      "cell_type": "markdown",
      "source": [
        "# Getting The Data"
      ],
      "metadata": {
        "id": "jJVOPkZMYxy8"
      }
    },
    {
      "cell_type": "code",
      "source": [
        "import pandas as pd\n",
        "ghi_df = pd.read_csv('/content/drive/MyDrive/predicted_ghi.csv')\n",
        "print(ghi_df)"
      ],
      "metadata": {
        "colab": {
          "base_uri": "https://localhost:8080/"
        },
        "id": "JWZzSvIlHas-",
        "outputId": "813d73e8-a7c3-46fa-e4d7-c133fd7a157f"
      },
      "execution_count": 1,
      "outputs": [
        {
          "output_type": "stream",
          "name": "stdout",
          "text": [
            "    hour  predicted_ghi        date\n",
            "0      0       0.000000  2025-10-09\n",
            "1      1       0.000000  2025-10-09\n",
            "2      2       0.000000  2025-10-09\n",
            "3      3       0.000000  2025-10-09\n",
            "4      4       0.000000  2025-10-09\n",
            "5      5       0.000000  2025-10-09\n",
            "6      6       0.000000  2025-10-09\n",
            "7      7      65.597340  2025-10-09\n",
            "8      8     174.463470  2025-10-09\n",
            "9      9     298.220580  2025-10-09\n",
            "10    10     443.440770  2025-10-09\n",
            "11    11     560.139600  2025-10-09\n",
            "12    12     639.329400  2025-10-09\n",
            "13    13     648.836400  2025-10-09\n",
            "14    14     606.947630  2025-10-09\n",
            "15    15     491.622770  2025-10-09\n",
            "16    16     326.187070  2025-10-09\n",
            "17    17     157.321370  2025-10-09\n",
            "18    18      38.067554  2025-10-09\n",
            "19    19       0.000000  2025-10-09\n",
            "20    20       0.000000  2025-10-09\n",
            "21    21       0.000000  2025-10-09\n",
            "22    22       0.000000  2025-10-09\n",
            "23    23       0.000000  2025-10-09\n"
          ]
        }
      ]
    },
    {
      "cell_type": "code",
      "source": [
        "import pandas as pd\n",
        "load_df = pd.read_csv('/content/drive/MyDrive/predicted_load.csv')\n",
        "print(load_df)"
      ],
      "metadata": {
        "colab": {
          "base_uri": "https://localhost:8080/"
        },
        "id": "Wowjk1BHISDZ",
        "outputId": "f4d70bc1-9fc6-40ac-f2dc-2ecf257eef16"
      },
      "execution_count": 2,
      "outputs": [
        {
          "output_type": "stream",
          "name": "stdout",
          "text": [
            "    hour  predicted_load        date\n",
            "0      0       7685.0930  2025-10-09\n",
            "1      1       7156.7070  2025-10-09\n",
            "2      2       6732.7060  2025-10-09\n",
            "3      3       6442.0140  2025-10-09\n",
            "4      4       6328.8784  2025-10-09\n",
            "5      5       6341.0220  2025-10-09\n",
            "6      6       6510.8657  2025-10-09\n",
            "7      7       6838.9023  2025-10-09\n",
            "8      8       7046.9490  2025-10-09\n",
            "9      9       7328.2065  2025-10-09\n",
            "10    10       7572.7905  2025-10-09\n",
            "11    11       7843.7420  2025-10-09\n",
            "12    12       8167.2134  2025-10-09\n",
            "13    13       8484.8960  2025-10-09\n",
            "14    14       8830.7280  2025-10-09\n",
            "15    15       9254.6880  2025-10-09\n",
            "16    16       9659.0670  2025-10-09\n",
            "17    17      10019.4470  2025-10-09\n",
            "18    18      10153.8430  2025-10-09\n",
            "19    19       9991.4900  2025-10-09\n",
            "20    20       9671.2020  2025-10-09\n",
            "21    21       9373.9290  2025-10-09\n",
            "22    22       8919.2650  2025-10-09\n",
            "23    23       8334.5970  2025-10-09\n"
          ]
        }
      ]
    },
    {
      "cell_type": "markdown",
      "source": [
        "# To Find PV and Battery Sizes"
      ],
      "metadata": {
        "id": "ypziqlTvYfCa"
      }
    },
    {
      "cell_type": "code",
      "execution_count": 18,
      "metadata": {
        "id": "oaIkI9hADRgU"
      },
      "outputs": [],
      "source": [
        "battery_capacity_list = []\n",
        "final_PV_plant_m2_list = []\n",
        "\n",
        "def simulate_day(target_date, seasonal_load_df, seasonal_ghi_df):\n",
        "\n",
        "  load_day = seasonal_load_df[seasonal_load_df['date'] == target_date].reset_index(drop=True)\n",
        "  ghi_day = seasonal_ghi_df[seasonal_ghi_df['date'] == target_date].reset_index(drop=True)\n",
        "\n",
        "  '''Finding the Final Solar Photovoltaic Plant in m²'''\n",
        "  PV_plant_sizes_m2 = []\n",
        "  for hour in range(24):\n",
        "\n",
        "    load_for_the_hour_Wh = (load_day.iloc[hour,1]) * 1000000\n",
        "    hour_GHI_Wh_m2 = (ghi_day.iloc[hour,1])\n",
        "    PV_with_bonus = 0.20 * 1.31\n",
        "    PR = 0.786\n",
        "\n",
        "    if hour_GHI_Wh_m2 > 0:\n",
        "      plant_size_m2 = (load_for_the_hour_Wh) / (hour_GHI_Wh_m2 * PV_with_bonus * PR)\n",
        "      PV_plant_sizes_m2.append(plant_size_m2)\n",
        "\n",
        "  final_PV_plant_m2 = 0\n",
        "  for x in PV_plant_sizes_m2:\n",
        "    final_PV_plant_m2 += x\n",
        "  final_PV_plant_m2 = final_PV_plant_m2 // (len(PV_plant_sizes_m2))\n",
        "  final_PV_plant_m2_list.append(final_PV_plant_m2)\n",
        "\n",
        "  print(f'Solar PV Plant Size {final_PV_plant_m2:} m²\\n')\n",
        "\n",
        "\n",
        "  '''Hourly Solar Photovoltaic Output & Surplus/Shortage Calculations'''\n",
        "  total_days_shortage = 0\n",
        "  total_days_surplus = 0\n",
        "\n",
        "  battery_lowest = 0\n",
        "  lowest_values = []\n",
        "\n",
        "  for hour in range(24):\n",
        "    load_for_the_hour_Wh = (load_day.iloc[hour,1]) * 1000000\n",
        "    hour_GHI_Wh_m2 = (ghi_day.iloc[hour,1])\n",
        "\n",
        "    if hour_GHI_Wh_m2 > 0:\n",
        "      hour_PV_output_MWh = (hour_GHI_Wh_m2 * PV_with_bonus * PR * final_PV_plant_m2) / 1000000\n",
        "      diff = hour_PV_output_MWh - (load_for_the_hour_Wh / 1000000)\n",
        "\n",
        "      if diff >= 0:\n",
        "        total_days_surplus += diff\n",
        "      else:\n",
        "        total_days_shortage += abs(diff)\n",
        "\n",
        "      print(\n",
        "          f\"{hour}: Solar PV output: {hour_PV_output_MWh} MWh & \"\n",
        "          f\"Actual load: {load_for_the_hour_Wh / 1000000} MWh & \"\n",
        "          f\"{'Surplus of ' if diff >= 0 else 'Shortage of -'}{abs(diff)} MWh\"\n",
        "      )\n",
        "\n",
        "      battery_lowest += diff\n",
        "      lowest_values.append(battery_lowest)\n",
        "\n",
        "    else:\n",
        "      print(f'{hour}: Shortage of -{load_for_the_hour_Wh / 1000000} MWh') # shortage\n",
        "      total_days_shortage += load_for_the_hour_Wh / 1000000\n",
        "      battery_lowest +=  -load_for_the_hour_Wh / 1000000\n",
        "      lowest_values.append(battery_lowest)\n",
        "\n",
        "  print(f'\\nSurplus: {total_days_surplus} MWh in Solar PV going to Battery Storage')\n",
        "  print(f'Shortage: {total_days_shortage} MWh either accessed from Battery Storage or NGCC')\n",
        "  print(lowest_values)\n",
        "\n",
        "  '''Capacity of Battery'''\n",
        "  battery_capacity = abs(min(lowest_values))\n",
        "  battery_capacity_list.append(battery_capacity)"
      ]
    },
    {
      "cell_type": "code",
      "source": [
        "''' Load Data for Representative Dates'''\n",
        "\n",
        "import pandas as pd\n",
        "import os\n",
        "\n",
        "# Path to your seasonal file\n",
        "save_directory = '/content/drive/MyDrive'\n",
        "seasonal_file = os.path.join(save_directory, 'seasonal_predicted_loads.csv')\n",
        "\n",
        "# Check if the file exists and is non-empty\n",
        "if os.path.exists(seasonal_file) and os.path.getsize(seasonal_file) > 0:\n",
        "    try:\n",
        "        seasonal_load_df = pd.read_csv(seasonal_file)\n",
        "        print(\"✅ Seasonal data loaded successfully!\")\n",
        "        print(seasonal_load_df)\n",
        "    except pd.errors.EmptyDataError:\n",
        "        print(\"⚠️ Seasonal file exists but is empty.\")\n",
        "        seasonal_load_df = pd.DataFrame()  # create empty DataFrame\n",
        "else:\n",
        "    print(\"⚠️ Seasonal file does not exist or is empty.\")\n",
        "    seasonal_load_df = pd.DataFrame()  # create empty DataFrame\n"
      ],
      "metadata": {
        "colab": {
          "base_uri": "https://localhost:8080/"
        },
        "id": "CmNt1wgxNbk8",
        "outputId": "b3503412-dd21-4d7d-d376-895970b87855"
      },
      "execution_count": 19,
      "outputs": [
        {
          "output_type": "stream",
          "name": "stdout",
          "text": [
            "✅ Seasonal data loaded successfully!\n",
            "     hour  predicted_load        date\n",
            "0       0     6730.208000  2025-03-21\n",
            "1       1     6317.309600  2025-03-21\n",
            "2       2     5992.536000  2025-03-21\n",
            "3       3     5779.637700  2025-03-21\n",
            "4       4     5609.925300  2025-03-21\n",
            "..    ...             ...         ...\n",
            "283    19     8018.749023  2025-02-21\n",
            "284    20     8250.614258  2025-02-21\n",
            "285    21     8259.625977  2025-02-21\n",
            "286    22     8042.062500  2025-02-21\n",
            "287    23     7776.392090  2025-02-21\n",
            "\n",
            "[288 rows x 3 columns]\n"
          ]
        }
      ]
    },
    {
      "cell_type": "code",
      "source": [
        "''' Solar GHI Data for Representative Dates'''\n",
        "\n",
        "import pandas as pd\n",
        "import os\n",
        "\n",
        "# Path to your seasonal file\n",
        "save_directory = '/content/drive/MyDrive'\n",
        "GHI_file = os.path.join(save_directory, 'seasonal_predicted_ghi.csv')\n",
        "\n",
        "# Check if the file exists and is non-empty\n",
        "if os.path.exists(GHI_file) and os.path.getsize(GHI_file) > 0:\n",
        "    try:\n",
        "        seasonal_ghi_df = pd.read_csv(GHI_file)\n",
        "        print(\"✅ GHI data loaded successfully!\")\n",
        "        print(seasonal_ghi_df)\n",
        "    except pd.errors.EmptyDataError:\n",
        "        print(\"⚠️ GHI file exists but is empty.\")\n",
        "        seasonal_ghi_df = pd.DataFrame()  # create empty DataFrame\n",
        "else:\n",
        "    print(\"⚠️ GHI file does not exist or is empty.\")\n",
        "    seasonal_ghi_df = pd.DataFrame()  # create empty DataFrame\n"
      ],
      "metadata": {
        "colab": {
          "base_uri": "https://localhost:8080/"
        },
        "id": "s1KiwT0QU7vy",
        "outputId": "529286f6-42a5-434e-f9b3-eebab4cad57f"
      },
      "execution_count": 20,
      "outputs": [
        {
          "output_type": "stream",
          "name": "stdout",
          "text": [
            "✅ GHI data loaded successfully!\n",
            "     hour  predicted_ghi        date\n",
            "0       0            0.0  2025-03-21\n",
            "1       1            0.0  2025-03-21\n",
            "2       2            0.0  2025-03-21\n",
            "3       3            0.0  2025-03-21\n",
            "4       4            0.0  2025-03-21\n",
            "..    ...            ...         ...\n",
            "283    19            0.0  2025-02-21\n",
            "284    20            0.0  2025-02-21\n",
            "285    21            0.0  2025-02-21\n",
            "286    22            0.0  2025-02-21\n",
            "287    23            0.0  2025-02-21\n",
            "\n",
            "[288 rows x 3 columns]\n"
          ]
        }
      ]
    },
    {
      "cell_type": "code",
      "source": [
        "simulate_day(\"2025-03-21\", seasonal_load_df, seasonal_ghi_df)\n",
        "simulate_day(\"2025-04-21\", seasonal_load_df, seasonal_ghi_df)\n",
        "simulate_day(\"2025-05-21\", seasonal_load_df, seasonal_ghi_df)\n",
        "\n",
        "# print(\"--\")\n",
        "# print(battery_capacity_list)\n",
        "# print(final_PV_plant_m2_list)"
      ],
      "metadata": {
        "colab": {
          "base_uri": "https://localhost:8080/"
        },
        "id": "cXFr6BahINVK",
        "outputId": "f3a60474-03b3-437c-b23d-dbb0c9c54fb7"
      },
      "execution_count": 21,
      "outputs": [
        {
          "output_type": "stream",
          "name": "stdout",
          "text": [
            "Solar PV Plant Size 411270898.0 m²\n",
            "\n",
            "0: Shortage of -6730.208 MWh\n",
            "1: Shortage of -6317.3096 MWh\n",
            "2: Shortage of -5992.536 MWh\n",
            "3: Shortage of -5779.6377 MWh\n",
            "4: Shortage of -5609.9253 MWh\n",
            "5: Shortage of -5574.014 MWh\n",
            "6: Shortage of -5655.4165 MWh\n",
            "7: Solar PV output: 1373.6233480371775 MWh & Actual load: 5845.335 MWh & Shortage of -4471.7116519628225 MWh\n",
            "8: Solar PV output: 10683.439055003944 MWh & Actual load: 6086.4697 MWh & Surplus of 4596.969355003945 MWh\n",
            "9: Solar PV output: 17985.153265403485 MWh & Actual load: 6405.8887 MWh & Surplus of 11579.264565403486 MWh\n",
            "10: Solar PV output: 26185.281121342985 MWh & Actual load: 6707.161 MWh & Surplus of 19478.120121342985 MWh\n",
            "11: Solar PV output: 32821.852885704 MWh & Actual load: 6735.9727 MWh & Surplus of 26085.880185704 MWh\n",
            "12: Solar PV output: 43955.41469911763 MWh & Actual load: 6783.007 MWh & Surplus of 37172.40769911763 MWh\n",
            "13: Solar PV output: 47682.98779500023 MWh & Actual load: 6813.663 MWh & Surplus of 40869.324795000226 MWh\n",
            "14: Solar PV output: 48401.32946301641 MWh & Actual load: 6976.3545 MWh & Surplus of 41424.97496301641 MWh\n",
            "15: Solar PV output: 43884.53323461385 MWh & Actual load: 7056.002 MWh & Surplus of 36828.53123461385 MWh\n",
            "16: Solar PV output: 37464.537117684464 MWh & Actual load: 7197.4453 MWh & Surplus of 30267.091817684464 MWh\n",
            "17: Solar PV output: 27642.388368274882 MWh & Actual load: 7427.6104 MWh & Surplus of 20214.77796827488 MWh\n",
            "18: Solar PV output: 14819.8709587127 MWh & Actual load: 7645.6553 MWh & Surplus of 7174.215658712699 MWh\n",
            "19: Solar PV output: 1333.0270450725072 MWh & Actual load: 7702.8623 MWh & Shortage of -6369.835254927492 MWh\n",
            "20: Shortage of -7702.962 MWh\n",
            "21: Shortage of -7630.8955 MWh\n",
            "22: Shortage of -7330.643 MWh\n",
            "23: Shortage of -6909.449 MWh\n",
            "\n",
            "Surplus: 275691.5583638746 MWh in Solar PV going to Battery Storage\n",
            "Shortage: 82074.5435068903 MWh either accessed from Battery Storage or NGCC\n",
            "[np.float64(-6730.208), np.float64(-13047.5176), np.float64(-19040.0536), np.float64(-24819.6913), np.float64(-30429.616599999998), np.float64(-36003.6306), np.float64(-41659.047099999996), np.float64(-46130.75875196282), np.float64(-41533.78939695888), np.float64(-29954.52483155539), np.float64(-10476.404710212406), np.float64(15609.475475491596), np.float64(52781.88317460923), np.float64(93651.20796960946), np.float64(135076.18293262587), np.float64(171904.71416723973), np.float64(202171.8059849242), np.float64(222386.5839531991), np.float64(229560.7996119118), np.float64(223190.9643569843), np.float64(215488.0023569843), np.float64(207857.1068569843), np.float64(200526.46385698428), np.float64(193617.0148569843)]\n",
            "Solar PV Plant Size 215106588.0 m²\n",
            "\n",
            "0: Shortage of -7200.7001953125 MWh\n",
            "1: Shortage of -6736.83203125 MWh\n",
            "2: Shortage of -6410.0068359375 MWh\n",
            "3: Shortage of -6192.8037109375 MWh\n",
            "4: Shortage of -6070.1650390625 MWh\n",
            "5: Shortage of -6081.43310546875 MWh\n",
            "6: Shortage of -6302.16015625 MWh\n",
            "7: Solar PV output: 1730.5363020166467 MWh & Actual load: 6693.36328125 MWh & Shortage of -4962.826979233353 MWh\n",
            "8: Solar PV output: 6307.183821945868 MWh & Actual load: 7018.984375 MWh & Shortage of -711.8005530541323 MWh\n",
            "9: Solar PV output: 10957.857988992118 MWh & Actual load: 7255.931640625 MWh & Surplus of 3701.9263483671184 MWh\n",
            "10: Solar PV output: 16269.267765132801 MWh & Actual load: 7461.2939453125 MWh & Surplus of 8807.973819820301 MWh\n",
            "11: Solar PV output: 24805.147478194718 MWh & Actual load: 7721.685546875 MWh & Surplus of 17083.461931319718 MWh\n",
            "12: Solar PV output: 30850.22704900787 MWh & Actual load: 7906.39111328125 MWh & Surplus of 22943.83593572662 MWh\n",
            "13: Solar PV output: 33789.67284101433 MWh & Actual load: 8194.8203125 MWh & Surplus of 25594.852528514333 MWh\n",
            "14: Solar PV output: 33460.42233819887 MWh & Actual load: 8464.4169921875 MWh & Surplus of 24996.00534601137 MWh\n",
            "15: Solar PV output: 30212.125418007356 MWh & Actual load: 8814.0107421875 MWh & Surplus of 21398.114675819856 MWh\n",
            "16: Solar PV output: 24998.45352033531 MWh & Actual load: 9086.7685546875 MWh & Surplus of 15911.684965647812 MWh\n",
            "17: Solar PV output: 18014.498477508016 MWh & Actual load: 9354.4052734375 MWh & Surplus of 8660.093204070516 MWh\n",
            "18: Solar PV output: 9952.648725477655 MWh & Actual load: 9537.7060546875 MWh & Surplus of 414.9426707901548 MWh\n",
            "19: Solar PV output: 2559.311421667307 MWh & Actual load: 9476.3330078125 MWh & Shortage of -6917.0215861451925 MWh\n",
            "20: Shortage of -9295.0205078125 MWh\n",
            "21: Shortage of -9110.328125 MWh\n",
            "22: Shortage of -8651.94140625 MWh\n",
            "23: Shortage of -8171.79345703125 MWh\n",
            "\n",
            "Surplus: 149512.8914260878 MWh in Solar PV going to Battery Storage\n",
            "Shortage: 92814.83368874519 MWh either accessed from Battery Storage or NGCC\n",
            "[np.float64(-7200.7001953125), np.float64(-13937.5322265625), np.float64(-20347.5390625), np.float64(-26540.3427734375), np.float64(-32610.5078125), np.float64(-38691.94091796875), np.float64(-44994.10107421875), np.float64(-49956.9280534521), np.float64(-50668.728606506236), np.float64(-46966.80225813912), np.float64(-38158.828438318815), np.float64(-21075.366506999097), np.float64(1868.4694287275233), np.float64(27463.321957241857), np.float64(52459.32730325323), np.float64(73857.44197907309), np.float64(89769.1269447209), np.float64(98429.22014879141), np.float64(98844.16281958157), np.float64(91927.14123343638), np.float64(82632.12072562388), np.float64(73521.79260062388), np.float64(64869.851194373885), np.float64(56698.057737342635)]\n",
            "Solar PV Plant Size 167923726.0 m²\n",
            "\n",
            "0: Shortage of -8501.1337890625 MWh\n",
            "1: Shortage of -7959.560546875 MWh\n",
            "2: Shortage of -7503.87158203125 MWh\n",
            "3: Shortage of -7154.126953125 MWh\n",
            "4: Shortage of -7013.0537109375 MWh\n",
            "5: Shortage of -7041.673828125 MWh\n",
            "6: Shortage of -7194.07177734375 MWh\n",
            "7: Solar PV output: 2448.192377809892 MWh & Actual load: 7498.55712890625 MWh & Shortage of -5050.364751096358 MWh\n",
            "8: Solar PV output: 6263.427663616136 MWh & Actual load: 7755.3876953125 MWh & Shortage of -1491.9600316963642 MWh\n",
            "9: Solar PV output: 11387.812081993472 MWh & Actual load: 8039.9892578125 MWh & Surplus of 3347.822824180972 MWh\n",
            "10: Solar PV output: 16453.996944711227 MWh & Actual load: 8349.98046875 MWh & Surplus of 8104.016475961227 MWh\n",
            "11: Solar PV output: 23004.20531046877 MWh & Actual load: 8740.8564453125 MWh & Surplus of 14263.34886515627 MWh\n",
            "12: Solar PV output: 25283.847349058142 MWh & Actual load: 9254.486328125 MWh & Surplus of 16029.361020933142 MWh\n",
            "13: Solar PV output: 26523.220281533337 MWh & Actual load: 9672.1953125 MWh & Surplus of 16851.024969033337 MWh\n",
            "14: Solar PV output: 26481.028413481257 MWh & Actual load: 10036.0693359375 MWh & Surplus of 16444.959077543757 MWh\n",
            "15: Solar PV output: 24807.241760021665 MWh & Actual load: 10447.291015625 MWh & Surplus of 14359.950744396665 MWh\n",
            "16: Solar PV output: 22557.843207041 MWh & Actual load: 10821.0927734375 MWh & Surplus of 11736.750433603502 MWh\n",
            "17: Solar PV output: 16585.552624538734 MWh & Actual load: 11074.5419921875 MWh & Surplus of 5511.010632351234 MWh\n",
            "18: Solar PV output: 9870.641896021027 MWh & Actual load: 11339.9443359375 MWh & Shortage of -1469.3024399164733 MWh\n",
            "19: Solar PV output: 3462.839527534149 MWh & Actual load: 11352.3623046875 MWh & Shortage of -7889.522777153351 MWh\n",
            "20: Shortage of -11154.5908203125 MWh\n",
            "21: Shortage of -10758.62109375 MWh\n",
            "22: Shortage of -10431.0419921875 MWh\n",
            "23: Shortage of -9855.533203125 MWh\n",
            "\n",
            "Surplus: 106648.24504316012 MWh in Solar PV going to Battery Storage\n",
            "Shortage: 110468.42929673754 MWh either accessed from Battery Storage or NGCC\n",
            "[np.float64(-8501.1337890625), np.float64(-16460.6943359375), np.float64(-23964.56591796875), np.float64(-31118.69287109375), np.float64(-38131.74658203125), np.float64(-45173.42041015625), np.float64(-52367.4921875), np.float64(-57417.85693859636), np.float64(-58909.81697029272), np.float64(-55561.99414611175), np.float64(-47457.97767015052), np.float64(-33194.62880499425), np.float64(-17165.26778406111), np.float64(-314.24281502777376), np.float64(16130.716262515984), np.float64(30490.66700691265), np.float64(42227.41744051615), np.float64(47738.42807286738), np.float64(46269.125632950905), np.float64(38379.60285579755), np.float64(27225.01203548505), np.float64(16466.39094173505), np.float64(6035.3489495475515), np.float64(-3820.1842535774485)]\n"
          ]
        }
      ]
    },
    {
      "cell_type": "code",
      "source": [
        "simulate_day(\"2025-06-21\", seasonal_load_df, seasonal_ghi_df)\n",
        "simulate_day(\"2025-07-21\", seasonal_load_df, seasonal_ghi_df)\n",
        "simulate_day(\"2025-08-21\", seasonal_load_df, seasonal_ghi_df)\n",
        "\n",
        "# print(\"--\")\n",
        "# print(battery_capacity_list)\n",
        "# print(final_PV_plant_m2_list)"
      ],
      "metadata": {
        "colab": {
          "base_uri": "https://localhost:8080/"
        },
        "id": "uuaoFD_kOzIr",
        "outputId": "4b018b5f-6d31-4de8-f148-793037ff21b2"
      },
      "execution_count": 22,
      "outputs": [
        {
          "output_type": "stream",
          "name": "stdout",
          "text": [
            "Solar PV Plant Size 431492642.0 m²\n",
            "\n",
            "0: Shortage of -10040.7861328125 MWh\n",
            "1: Shortage of -9209.10546875 MWh\n",
            "2: Shortage of -8607.013671875 MWh\n",
            "3: Shortage of -8225.138671875 MWh\n",
            "4: Shortage of -7970.302734375 MWh\n",
            "5: Shortage of -7622.4267578125 MWh\n",
            "6: Shortage of -7478.98486328125 MWh\n",
            "7: Solar PV output: 7647.28543930694 MWh & Actual load: 7438.9345703125 MWh & Surplus of 208.35086899444013 MWh\n",
            "8: Solar PV output: 21032.39399833336 MWh & Actual load: 7602.40087890625 MWh & Surplus of 13429.993119427108 MWh\n",
            "9: Solar PV output: 35593.448609854924 MWh & Actual load: 8006.681640625 MWh & Surplus of 27586.766969229924 MWh\n",
            "10: Solar PV output: 54810.38055944139 MWh & Actual load: 8403.2412109375 MWh & Surplus of 46407.13934850389 MWh\n",
            "11: Solar PV output: 67869.44158924921 MWh & Actual load: 9075.12109375 MWh & Surplus of 58794.32049549921 MWh\n",
            "12: Solar PV output: 76347.77966933779 MWh & Actual load: 9823.2373046875 MWh & Surplus of 66524.54236465029 MWh\n",
            "13: Solar PV output: 78561.03837402903 MWh & Actual load: 10528.9111328125 MWh & Surplus of 68032.12724121653 MWh\n",
            "14: Solar PV output: 78613.45621763873 MWh & Actual load: 11088.818359375 MWh & Surplus of 67524.63785826373 MWh\n",
            "15: Solar PV output: 72592.63911233905 MWh & Actual load: 11531.2900390625 MWh & Surplus of 61061.34907327655 MWh\n",
            "16: Solar PV output: 61864.84066112417 MWh & Actual load: 11944.994140625 MWh & Surplus of 49919.84652049917 MWh\n",
            "17: Solar PV output: 48001.3379270998 MWh & Actual load: 12306.3994140625 MWh & Surplus of 35694.9385130373 MWh\n",
            "18: Solar PV output: 30342.292491641034 MWh & Actual load: 12455.3466796875 MWh & Surplus of 17886.945811953534 MWh\n",
            "19: Solar PV output: 13521.011919798626 MWh & Actual load: 12487.6982421875 MWh & Surplus of 1033.313677611126 MWh\n",
            "20: Solar PV output: 1253.6047284027916 MWh & Actual load: 12294.9609375 MWh & Shortage of -11041.356209097208 MWh\n",
            "21: Shortage of -11904.1650390625 MWh\n",
            "22: Shortage of -11497.5693359375 MWh\n",
            "23: Shortage of -10788.9384765625 MWh\n",
            "\n",
            "Surplus: 514104.27186216274 MWh in Solar PV going to Battery Storage\n",
            "Shortage: 104385.78736144096 MWh either accessed from Battery Storage or NGCC\n",
            "[np.float64(-10040.7861328125), np.float64(-19249.8916015625), np.float64(-27856.9052734375), np.float64(-36082.0439453125), np.float64(-44052.3466796875), np.float64(-51674.7734375), np.float64(-59153.75830078125), np.float64(-58945.40743178681), np.float64(-45515.4143123597), np.float64(-17928.647343129778), np.float64(28478.492005374115), np.float64(87272.81250087332), np.float64(153797.3548655236), np.float64(221829.48210674012), np.float64(289354.11996500386), np.float64(350415.4690382804), np.float64(400335.3155587796), np.float64(436030.25407181686), np.float64(453917.1998837704), np.float64(454950.5135613815), np.float64(443909.1573522843), np.float64(432004.9923132218), np.float64(420507.4229772843), np.float64(409718.4845007218)]\n",
            "Solar PV Plant Size 162201469.0 m²\n",
            "\n",
            "0: Shortage of -10578.646484375 MWh\n",
            "1: Shortage of -9802.232421875 MWh\n",
            "2: Shortage of -9197.2939453125 MWh\n",
            "3: Shortage of -8733.1826171875 MWh\n",
            "4: Shortage of -8480.4443359375 MWh\n",
            "5: Shortage of -8340.0625 MWh\n",
            "6: Shortage of -8366.5302734375 MWh\n",
            "7: Solar PV output: 2477.5319457360742 MWh & Actual load: 8478.5478515625 MWh & Shortage of -6001.015905826425 MWh\n",
            "8: Solar PV output: 7633.223466630761 MWh & Actual load: 8778.0966796875 MWh & Shortage of -1144.8732130567387 MWh\n",
            "9: Solar PV output: 13976.58222572712 MWh & Actual load: 9187.2197265625 MWh & Surplus of 4789.362499164619 MWh\n",
            "10: Solar PV output: 21574.1728541259 MWh & Actual load: 9780.154296875 MWh & Surplus of 11794.0185572509 MWh\n",
            "11: Solar PV output: 26524.851957474268 MWh & Actual load: 10500.4169921875 MWh & Surplus of 16024.434965286768 MWh\n",
            "12: Solar PV output: 29904.354901714727 MWh & Actual load: 11113.2744140625 MWh & Surplus of 18791.080487652227 MWh\n",
            "13: Solar PV output: 30939.825445876613 MWh & Actual load: 11843.9404296875 MWh & Surplus of 19095.885016189113 MWh\n",
            "14: Solar PV output: 29761.462694434646 MWh & Actual load: 12397.0751953125 MWh & Surplus of 17364.387499122146 MWh\n",
            "15: Solar PV output: 27300.749976373878 MWh & Actual load: 12804.791015625 MWh & Surplus of 14495.958960748878 MWh\n",
            "16: Solar PV output: 23204.188659887495 MWh & Actual load: 13170.4580078125 MWh & Surplus of 10033.730652074995 MWh\n",
            "17: Solar PV output: 18104.01799593733 MWh & Actual load: 13376.384765625 MWh & Surplus of 4727.633230312331 MWh\n",
            "18: Solar PV output: 11486.315128479382 MWh & Actual load: 13282.873046875 MWh & Shortage of -1796.557918395618 MWh\n",
            "19: Solar PV output: 4661.778497391151 MWh & Actual load: 13138.9580078125 MWh & Shortage of -8477.179510421349 MWh\n",
            "20: Shortage of -12816.4501953125 MWh\n",
            "21: Shortage of -12445.3759765625 MWh\n",
            "22: Shortage of -11959.3505859375 MWh\n",
            "23: Shortage of -11295.08203125 MWh\n",
            "\n",
            "Surplus: 117116.49186780199 MWh in Solar PV going to Battery Storage\n",
            "Shortage: 129434.27791488763 MWh either accessed from Battery Storage or NGCC\n",
            "[np.float64(-10578.646484375), np.float64(-20380.87890625), np.float64(-29578.1728515625), np.float64(-38311.35546875), np.float64(-46791.7998046875), np.float64(-55131.8623046875), np.float64(-63498.392578125), np.float64(-69499.40848395143), np.float64(-70644.28169700816), np.float64(-65854.91919784354), np.float64(-54060.90064059264), np.float64(-38036.46567530587), np.float64(-19245.385187653646), np.float64(-149.5001714645332), np.float64(17214.887327657612), np.float64(31710.84628840649), np.float64(41744.576940481486), np.float64(46472.21017079381), np.float64(44675.6522523982), np.float64(36198.472741976846), np.float64(23382.022546664346), np.float64(10936.646570101846), np.float64(-1022.704015835654), np.float64(-12317.786047085654)]\n",
            "Solar PV Plant Size 161538040.0 m²\n",
            "\n",
            "0: Shortage of -10428.3916015625 MWh\n",
            "1: Shortage of -9719.900390625 MWh\n",
            "2: Shortage of -9125.28515625 MWh\n",
            "3: Shortage of -8750.8271484375 MWh\n",
            "4: Shortage of -8567.4541015625 MWh\n",
            "5: Shortage of -8495.7158203125 MWh\n",
            "6: Shortage of -8587.3974609375 MWh\n",
            "7: Solar PV output: 2467.3984583431347 MWh & Actual load: 8658.1748046875 MWh & Shortage of -6190.776346344365 MWh\n",
            "8: Solar PV output: 7602.002406535163 MWh & Actual load: 8842.3359375 MWh & Shortage of -1240.3335309648373 MWh\n",
            "9: Solar PV output: 13919.415850930403 MWh & Actual load: 9216.0810546875 MWh & Surplus of 4703.334796242903 MWh\n",
            "10: Solar PV output: 21485.931163032215 MWh & Actual load: 9643.1220703125 MWh & Surplus of 11842.809092719715 MWh\n",
            "11: Solar PV output: 26416.36122605373 MWh & Actual load: 10281.7021484375 MWh & Surplus of 16134.65907761623 MWh\n",
            "12: Solar PV output: 29782.04148254286 MWh & Actual load: 11006.1953125 MWh & Surplus of 18775.84617004286 MWh\n",
            "13: Solar PV output: 30813.276792635177 MWh & Actual load: 11766.3720703125 MWh & Surplus of 19046.904722322677 MWh\n",
            "14: Solar PV output: 29639.7337264072 MWh & Actual load: 12403.6044921875 MWh & Surplus of 17236.1292342197 MWh\n",
            "15: Solar PV output: 27189.085702506694 MWh & Actual load: 12874.3759765625 MWh & Surplus of 14314.709725944194 MWh\n",
            "16: Solar PV output: 23109.279952997545 MWh & Actual load: 12997.625 MWh & Surplus of 10111.654952997545 MWh\n",
            "17: Solar PV output: 18029.969772890556 MWh & Actual load: 13002.087890625 MWh & Surplus of 5027.881882265556 MWh\n",
            "18: Solar PV output: 11439.334329807503 MWh & Actual load: 13080.9970703125 MWh & Shortage of -1641.6627405049967 MWh\n",
            "19: Solar PV output: 4642.711105056093 MWh & Actual load: 12800.7939453125 MWh & Shortage of -8158.082840256407 MWh\n",
            "20: Shortage of -12637.9169921875 MWh\n",
            "21: Shortage of -12267.2607421875 MWh\n",
            "22: Shortage of -11800.4814453125 MWh\n",
            "23: Shortage of -11256.755859375 MWh\n",
            "\n",
            "Surplus: 117193.92965437139 MWh in Solar PV going to Battery Storage\n",
            "Shortage: 128868.24217682061 MWh either accessed from Battery Storage or NGCC\n",
            "[np.float64(-10428.3916015625), np.float64(-20148.2919921875), np.float64(-29273.5771484375), np.float64(-38024.404296875), np.float64(-46591.8583984375), np.float64(-55087.57421875), np.float64(-63674.9716796875), np.float64(-69865.74802603187), np.float64(-71106.08155699671), np.float64(-66402.7467607538), np.float64(-54559.93766803408), np.float64(-38425.278590417845), np.float64(-19649.432420374986), np.float64(-602.5276980523086), np.float64(16633.601536167393), np.float64(30948.311262111587), np.float64(41059.96621510913), np.float64(46087.84809737469), np.float64(44446.1853568697), np.float64(36288.10251661329), np.float64(23650.18552442579), np.float64(11382.92478223829), np.float64(-417.5566630742105), np.float64(-11674.31252244921)]\n"
          ]
        }
      ]
    },
    {
      "cell_type": "code",
      "source": [
        "simulate_day(\"2025-09-21\", seasonal_load_df, seasonal_ghi_df)\n",
        "simulate_day(\"2025-10-21\", seasonal_load_df, seasonal_ghi_df)\n",
        "simulate_day(\"2025-11-21\", seasonal_load_df, seasonal_ghi_df)\n",
        "\n",
        "# print(\"--\")\n",
        "# print(battery_capacity_list)\n",
        "# print(final_PV_plant_m2_list)"
      ],
      "metadata": {
        "colab": {
          "base_uri": "https://localhost:8080/"
        },
        "id": "_qVDp6JEO3dJ",
        "outputId": "f1969328-a13d-4eb1-ebd5-8b8ecf342974"
      },
      "execution_count": 23,
      "outputs": [
        {
          "output_type": "stream",
          "name": "stdout",
          "text": [
            "Solar PV Plant Size 12575188911.0 m²\n",
            "\n",
            "0: Shortage of -8827.7314453125 MWh\n",
            "1: Shortage of -8146.84375 MWh\n",
            "2: Shortage of -7746.16064453125 MWh\n",
            "3: Shortage of -7347.4169921875 MWh\n",
            "4: Shortage of -7165.83984375 MWh\n",
            "5: Shortage of -7210.74951171875 MWh\n",
            "6: Shortage of -7434.9755859375 MWh\n",
            "7: Solar PV output: 58270.5786690145 MWh & Actual load: 7739.96875 MWh & Surplus of 50530.6099190145 MWh\n",
            "8: Solar PV output: 380939.33675635036 MWh & Actual load: 7886.7626953125 MWh & Surplus of 373052.57406103786 MWh\n",
            "9: Solar PV output: 833443.6240897849 MWh & Actual load: 8241.267578125 MWh & Surplus of 825202.3565116599 MWh\n",
            "10: Solar PV output: 1216792.2496679362 MWh & Actual load: 8642.4580078125 MWh & Surplus of 1208149.7916601237 MWh\n",
            "11: Solar PV output: 1824577.5171264494 MWh & Actual load: 9059.1083984375 MWh & Surplus of 1815518.408728012 MWh\n",
            "12: Solar PV output: 2098199.1035388093 MWh & Actual load: 9587.666015625 MWh & Surplus of 2088611.4375231843 MWh\n",
            "13: Solar PV output: 2082058.148708244 MWh & Actual load: 10072.0869140625 MWh & Surplus of 2071986.0617941816 MWh\n",
            "14: Solar PV output: 1930907.2425130776 MWh & Actual load: 10523.7060546875 MWh & Surplus of 1920383.53645839 MWh\n",
            "15: Solar PV output: 1726262.3163739643 MWh & Actual load: 10863.7578125 MWh & Surplus of 1715398.5585614643 MWh\n",
            "16: Solar PV output: 1413308.453759422 MWh & Actual load: 11348.40625 MWh & Surplus of 1401960.047509422 MWh\n",
            "17: Solar PV output: 932607.2049348385 MWh & Actual load: 11625.2568359375 MWh & Surplus of 920981.948098901 MWh\n",
            "18: Solar PV output: 411515.04222479375 MWh & Actual load: 11757.3955078125 MWh & Surplus of 399757.64671698125 MWh\n",
            "19: Solar PV output: 906.8584171762888 MWh & Actual load: 11566.3408203125 MWh & Shortage of -10659.482403136211 MWh\n",
            "20: Shortage of -11183.798828125 MWh\n",
            "21: Shortage of -10910.70703125 MWh\n",
            "22: Shortage of -10273.4482421875 MWh\n",
            "23: Shortage of -9574.361328125 MWh\n",
            "\n",
            "Surplus: 14791532.977542374 MWh in Solar PV going to Battery Storage\n",
            "Shortage: 106481.51560626121 MWh either accessed from Battery Storage or NGCC\n",
            "[np.float64(-8827.7314453125), np.float64(-16974.5751953125), np.float64(-24720.73583984375), np.float64(-32068.15283203125), np.float64(-39233.99267578125), np.float64(-46444.7421875), np.float64(-53879.7177734375), np.float64(-3349.1078544229968), np.float64(369703.46620661486), np.float64(1194905.8227182748), np.float64(2403055.6143783983), np.float64(4218574.02310641), np.float64(6307185.4606295945), np.float64(8379171.522423776), np.float64(10299555.058882166), np.float64(12014953.61744363), np.float64(13416913.664953053), np.float64(14337895.613051955), np.float64(14737653.259768937), np.float64(14726993.7773658), np.float64(14715809.978537675), np.float64(14704899.271506425), np.float64(14694625.823264237), np.float64(14685051.461936112)]\n",
            "Solar PV Plant Size 212309320.0 m²\n",
            "\n",
            "0: Shortage of -7361.23046875 MWh\n",
            "1: Shortage of -6882.203125 MWh\n",
            "2: Shortage of -6492.6416015625 MWh\n",
            "3: Shortage of -6184.0927734375 MWh\n",
            "4: Shortage of -6052.62060546875 MWh\n",
            "5: Shortage of -6042.73095703125 MWh\n",
            "6: Shortage of -6267.8564453125 MWh\n",
            "7: Shortage of -6594.498046875 MWh\n",
            "8: Solar PV output: 5481.972133374196 MWh & Actual load: 6801.05859375 MWh & Shortage of -1319.0864603758037 MWh\n",
            "9: Solar PV output: 12471.13702529775 MWh & Actual load: 6955.2138671875 MWh & Surplus of 5515.92315811025 MWh\n",
            "10: Solar PV output: 16229.722341631892 MWh & Actual load: 7072.978515625 MWh & Surplus of 9156.743826006892 MWh\n",
            "11: Solar PV output: 22529.57120050174 MWh & Actual load: 7262.77978515625 MWh & Surplus of 15266.791415345491 MWh\n",
            "12: Solar PV output: 28210.130396243385 MWh & Actual load: 7482.6298828125 MWh & Surplus of 20727.500513430885 MWh\n",
            "13: Solar PV output: 27210.011387291306 MWh & Actual load: 7751.38134765625 MWh & Surplus of 19458.630039635056 MWh\n",
            "14: Solar PV output: 26026.35051817593 MWh & Actual load: 8052.6875 MWh & Surplus of 17973.66301817593 MWh\n",
            "15: Solar PV output: 22054.79740256798 MWh & Actual load: 8439.15625 MWh & Surplus of 13615.64115256798 MWh\n",
            "16: Solar PV output: 15741.632552389388 MWh & Actual load: 8747.59375 MWh & Surplus of 6994.038802389388 MWh\n",
            "17: Solar PV output: 7546.3137070335515 MWh & Actual load: 8922.5732421875 MWh & Shortage of -1376.2595351539485 MWh\n",
            "18: Solar PV output: 1643.047058405167 MWh & Actual load: 8976.3935546875 MWh & Shortage of -7333.346496282333 MWh\n",
            "19: Shortage of -8880.8310546875 MWh\n",
            "20: Shortage of -8824.0986328125 MWh\n",
            "21: Shortage of -8673.0244140625 MWh\n",
            "22: Shortage of -8145.4013671875 MWh\n",
            "23: Shortage of -7674.927734375 MWh\n",
            "\n",
            "Surplus: 108708.93192566188 MWh in Solar PV going to Battery Storage\n",
            "Shortage: 104104.84971837458 MWh either accessed from Battery Storage or NGCC\n",
            "[np.float64(-7361.23046875), np.float64(-14243.43359375), np.float64(-20736.0751953125), np.float64(-26920.16796875), np.float64(-32972.78857421875), np.float64(-39015.51953125), np.float64(-45283.3759765625), np.float64(-51877.8740234375), np.float64(-53196.9604838133), np.float64(-47681.03732570305), np.float64(-38524.293499696156), np.float64(-23257.502084350665), np.float64(-2530.0015709197796), np.float64(16928.628468715277), np.float64(34902.291486891205), np.float64(48517.932639459184), np.float64(55511.971441848575), np.float64(54135.711906694625), np.float64(46802.36541041229), np.float64(37921.53435572479), np.float64(29097.43572291229), np.float64(20424.41130884979), np.float64(12279.00994166229), np.float64(4604.082207287291)]\n",
            "Solar PV Plant Size 364854097.0 m²\n",
            "\n",
            "0: Shortage of -6346.693359375 MWh\n",
            "1: Shortage of -6044.607421875 MWh\n",
            "2: Shortage of -5788.212890625 MWh\n",
            "3: Shortage of -5621.7548828125 MWh\n",
            "4: Shortage of -5514.2880859375 MWh\n",
            "5: Shortage of -5528.9248046875 MWh\n",
            "6: Shortage of -5705.197265625 MWh\n",
            "7: Solar PV output: 1540.8996576863008 MWh & Actual load: 5990.681640625 MWh & Shortage of -4449.781982938699 MWh\n",
            "8: Solar PV output: 8672.744773759421 MWh & Actual load: 6254.1494140625 MWh & Surplus of 2418.595359696921 MWh\n",
            "9: Solar PV output: 15972.811603053466 MWh & Actual load: 6507.5166015625 MWh & Surplus of 9465.295001490966 MWh\n",
            "10: Solar PV output: 21508.837653490842 MWh & Actual load: 6656.4169921875 MWh & Surplus of 14852.420661303342 MWh\n",
            "11: Solar PV output: 23767.555515269458 MWh & Actual load: 6707.1806640625 MWh & Surplus of 17060.374851206958 MWh\n",
            "12: Solar PV output: 28143.149826983907 MWh & Actual load: 6649.4951171875 MWh & Surplus of 21493.654709796407 MWh\n",
            "13: Solar PV output: 24732.703089053477 MWh & Actual load: 6566.197265625 MWh & Surplus of 18166.505823428477 MWh\n",
            "14: Solar PV output: 22351.026195427625 MWh & Actual load: 6591.6650390625 MWh & Surplus of 15759.361156365125 MWh\n",
            "15: Solar PV output: 15036.11944344612 MWh & Actual load: 6598.82470703125 MWh & Surplus of 8437.29473641487 MWh\n",
            "16: Solar PV output: 8507.177141272541 MWh & Actual load: 6652.435546875 MWh & Surplus of 1854.7415943975411 MWh\n",
            "17: Solar PV output: 2000.6443376164643 MWh & Actual load: 6751.1474609375 MWh & Shortage of -4750.503123321036 MWh\n",
            "18: Shortage of -6862.064453125 MWh\n",
            "19: Shortage of -7032.263671875 MWh\n",
            "20: Shortage of -7140.318359375 MWh\n",
            "21: Shortage of -7068.6083984375 MWh\n",
            "22: Shortage of -6782.3603515625 MWh\n",
            "23: Shortage of -6402.5615234375 MWh\n",
            "\n",
            "Surplus: 109508.2438941006 MWh in Solar PV going to Battery Storage\n",
            "Shortage: 91038.14057500973 MWh either accessed from Battery Storage or NGCC\n",
            "[np.float64(-6346.693359375), np.float64(-12391.30078125), np.float64(-18179.513671875), np.float64(-23801.2685546875), np.float64(-29315.556640625), np.float64(-34844.4814453125), np.float64(-40549.6787109375), np.float64(-44999.4606938762), np.float64(-42580.86533417928), np.float64(-33115.570332688316), np.float64(-18263.149671384974), np.float64(-1202.774820178016), np.float64(20290.87988961839), np.float64(38457.38571304687), np.float64(54216.74686941199), np.float64(62654.04160582686), np.float64(64508.7832002244), np.float64(59758.280076903364), np.float64(52896.215623778364), np.float64(45863.951951903364), np.float64(38723.633592528364), np.float64(31655.025194090864), np.float64(24872.664842528364), np.float64(18470.103319090864)]\n"
          ]
        }
      ]
    },
    {
      "cell_type": "code",
      "source": [
        "simulate_day(\"2025-12-21\", seasonal_load_df, seasonal_ghi_df)\n",
        "simulate_day(\"2025-01-21\", seasonal_load_df, seasonal_ghi_df)\n",
        "simulate_day(\"2025-02-21\", seasonal_load_df, seasonal_ghi_df)\n",
        "\n",
        "# print(\"--\")\n",
        "# print(battery_capacity_list)\n",
        "# print(final_PV_plant_m2_list)"
      ],
      "metadata": {
        "colab": {
          "base_uri": "https://localhost:8080/"
        },
        "id": "hfPARzB7O5uu",
        "outputId": "4c8fc948-93f2-4dd8-ac8d-d00cbed69747"
      },
      "execution_count": 24,
      "outputs": [
        {
          "output_type": "stream",
          "name": "stdout",
          "text": [
            "Solar PV Plant Size 589200782.0 m²\n",
            "\n",
            "0: Shortage of -6590.6796875 MWh\n",
            "1: Shortage of -6419.68359375 MWh\n",
            "2: Shortage of -6270.0166015625 MWh\n",
            "3: Shortage of -6161.58837890625 MWh\n",
            "4: Shortage of -6253.07177734375 MWh\n",
            "5: Shortage of -6415.90869140625 MWh\n",
            "6: Shortage of -6880.91845703125 MWh\n",
            "7: Solar PV output: 1467.1693833617996 MWh & Actual load: 7534.10791015625 MWh & Shortage of -6066.938526794451 MWh\n",
            "8: Solar PV output: 13221.187085937918 MWh & Actual load: 7992.43896484375 MWh & Surplus of 5228.748121094168 MWh\n",
            "9: Solar PV output: 25029.577806753772 MWh & Actual load: 7997.8076171875 MWh & Surplus of 17031.770189566272 MWh\n",
            "10: Solar PV output: 35383.0206629472 MWh & Actual load: 7715.7314453125 MWh & Surplus of 27667.2892176347 MWh\n",
            "11: Solar PV output: 45267.59265580917 MWh & Actual load: 7430.4833984375 MWh & Surplus of 37837.10925737167 MWh\n",
            "12: Solar PV output: 58547.42007396805 MWh & Actual load: 7292.4482421875 MWh & Surplus of 51254.97183178055 MWh\n",
            "13: Solar PV output: 58203.93543421294 MWh & Actual load: 7249.1376953125 MWh & Surplus of 50954.79773890044 MWh\n",
            "14: Solar PV output: 42423.585605978325 MWh & Actual load: 7160.49072265625 MWh & Surplus of 35263.094883322075 MWh\n",
            "15: Solar PV output: 24618.31973217146 MWh & Actual load: 7107.8671875 MWh & Surplus of 17510.45254467146 MWh\n",
            "16: Solar PV output: 13276.837359227413 MWh & Actual load: 7099.26953125 MWh & Surplus of 6177.567827977413 MWh\n",
            "17: Solar PV output: 2192.8439574537956 MWh & Actual load: 7274.28857421875 MWh & Shortage of -5081.444616764955 MWh\n",
            "18: Shortage of -7533.19921875 MWh\n",
            "19: Shortage of -7792.5751953125 MWh\n",
            "20: Shortage of -7943.9111328125 MWh\n",
            "21: Shortage of -7784.84033203125 MWh\n",
            "22: Shortage of -7537.48291015625 MWh\n",
            "23: Shortage of -7269.0517578125 MWh\n",
            "\n",
            "Surplus: 248925.80161231873 MWh in Solar PV going to Battery Storage\n",
            "Shortage: 102001.3108779344 MWh either accessed from Battery Storage or NGCC\n",
            "[np.float64(-6590.6796875), np.float64(-13010.36328125), np.float64(-19280.3798828125), np.float64(-25441.96826171875), np.float64(-31695.0400390625), np.float64(-38110.94873046875), np.float64(-44991.8671875), np.float64(-51058.80571429445), np.float64(-45830.05759320028), np.float64(-28798.28740363401), np.float64(-1130.9981859993095), np.float64(36706.11107137236), np.float64(87961.08290315291), np.float64(138915.88064205335), np.float64(174178.97552537543), np.float64(191689.42807004688), np.float64(197866.9958980243), np.float64(192785.55128125934), np.float64(185252.35206250934), np.float64(177459.77686719684), np.float64(169515.86573438434), np.float64(161731.0254023531), np.float64(154193.54249219684), np.float64(146924.49073438434)]\n",
            "Solar PV Plant Size 208037039.0 m²\n",
            "\n",
            "0: Shortage of -7065.1806640625 MWh\n",
            "1: Shortage of -6878.71923828125 MWh\n",
            "2: Shortage of -6736.53369140625 MWh\n",
            "3: Shortage of -6692.93310546875 MWh\n",
            "4: Shortage of -6803.51904296875 MWh\n",
            "5: Shortage of -7077.0927734375 MWh\n",
            "6: Shortage of -7628.3916015625 MWh\n",
            "7: Shortage of -8325.9404296875 MWh\n",
            "8: Solar PV output: 4618.923598615606 MWh & Actual load: 8712.828125 MWh & Shortage of -4093.9045263843936 MWh\n",
            "9: Solar PV output: 10756.58354049091 MWh & Actual load: 8556.2314453125 MWh & Surplus of 2200.3520951784103 MWh\n",
            "10: Solar PV output: 18043.152039672168 MWh & Actual load: 8274.7177734375 MWh & Surplus of 9768.434266234668 MWh\n",
            "11: Solar PV output: 22953.166770745884 MWh & Actual load: 7967.1181640625 MWh & Surplus of 14986.048606683384 MWh\n",
            "12: Solar PV output: 22824.65539438304 MWh & Actual load: 7760.8828125 MWh & Surplus of 15063.77258188304 MWh\n",
            "13: Solar PV output: 23228.639810805817 MWh & Actual load: 7580.02197265625 MWh & Surplus of 15648.617838149567 MWh\n",
            "14: Solar PV output: 22587.55508202011 MWh & Actual load: 7389.60791015625 MWh & Surplus of 15197.94717186386 MWh\n",
            "15: Solar PV output: 15099.992588514919 MWh & Actual load: 7307.25390625 MWh & Surplus of 7792.738682264919 MWh\n",
            "16: Solar PV output: 7751.123645250053 MWh & Actual load: 7295.0078125 MWh & Surplus of 456.1158327500534 MWh\n",
            "17: Solar PV output: 1823.3045071894112 MWh & Actual load: 7464.49560546875 MWh & Shortage of -5641.191098279339 MWh\n",
            "18: Shortage of -7746.638671875 MWh\n",
            "19: Shortage of -8018.7490234375 MWh\n",
            "20: Shortage of -8250.6142578125 MWh\n",
            "21: Shortage of -8259.6259765625 MWh\n",
            "22: Shortage of -8042.0625 MWh\n",
            "23: Shortage of -7776.39208984375 MWh\n",
            "\n",
            "Surplus: 81114.0270750079 MWh in Solar PV going to Battery Storage\n",
            "Shortage: 115037.48869106999 MWh either accessed from Battery Storage or NGCC\n",
            "[np.float64(-7065.1806640625), np.float64(-13943.89990234375), np.float64(-20680.43359375), np.float64(-27373.36669921875), np.float64(-34176.8857421875), np.float64(-41253.978515625), np.float64(-48882.3701171875), np.float64(-57208.310546875), np.float64(-61302.215073259395), np.float64(-59101.862978080986), np.float64(-49333.42871184632), np.float64(-34347.380105162934), np.float64(-19283.607523279894), np.float64(-3634.9896851303274), np.float64(11562.957486733532), np.float64(19355.696168998453), np.float64(19811.812001748505), np.float64(14170.620903469167), np.float64(6423.982231594167), np.float64(-1594.7667918433326), np.float64(-9845.381049655833), np.float64(-18105.007026218333), np.float64(-26147.069526218333), np.float64(-33923.46161606208)]\n",
            "Solar PV Plant Size 155650337.0 m²\n",
            "\n",
            "0: Shortage of -7065.1806640625 MWh\n",
            "1: Shortage of -6878.71923828125 MWh\n",
            "2: Shortage of -6736.53369140625 MWh\n",
            "3: Shortage of -6692.93310546875 MWh\n",
            "4: Shortage of -6803.51904296875 MWh\n",
            "5: Shortage of -7077.0927734375 MWh\n",
            "6: Shortage of -7628.3916015625 MWh\n",
            "7: Shortage of -8325.9404296875 MWh\n",
            "8: Solar PV output: 3340.563494169115 MWh & Actual load: 8712.828125 MWh & Shortage of -5372.264630830885 MWh\n",
            "9: Solar PV output: 6660.0547830172245 MWh & Actual load: 8556.2314453125 MWh & Shortage of -1896.1766622952755 MWh\n",
            "10: Solar PV output: 9926.862379439843 MWh & Actual load: 8274.7177734375 MWh & Surplus of 1652.1446060023427 MWh\n",
            "11: Solar PV output: 14475.645449484995 MWh & Actual load: 7967.1181640625 MWh & Surplus of 6508.527285422495 MWh\n",
            "12: Solar PV output: 16575.622472143306 MWh & Actual load: 7760.8828125 MWh & Surplus of 8814.739659643306 MWh\n",
            "13: Solar PV output: 17101.846559306345 MWh & Actual load: 7580.02197265625 MWh & Surplus of 9521.824586650095 MWh\n",
            "14: Solar PV output: 17081.670377570616 MWh & Actual load: 7389.60791015625 MWh & Surplus of 9692.062467414366 MWh\n",
            "15: Solar PV output: 14531.897340636682 MWh & Actual load: 7307.25390625 MWh & Surplus of 7224.643434386682 MWh\n",
            "16: Solar PV output: 8845.414734361444 MWh & Actual load: 7295.0078125 MWh & Surplus of 1550.406921861444 MWh\n",
            "17: Solar PV output: 3638.478619781829 MWh & Actual load: 7464.49560546875 MWh & Shortage of -3826.016985686921 MWh\n",
            "18: Shortage of -7746.638671875 MWh\n",
            "19: Shortage of -8018.7490234375 MWh\n",
            "20: Shortage of -8250.6142578125 MWh\n",
            "21: Shortage of -8259.6259765625 MWh\n",
            "22: Shortage of -8042.0625 MWh\n",
            "23: Shortage of -7776.39208984375 MWh\n",
            "\n",
            "Surplus: 44964.34896138073 MWh in Solar PV going to Battery Storage\n",
            "Shortage: 116396.85134521933 MWh either accessed from Battery Storage or NGCC\n",
            "[np.float64(-7065.1806640625), np.float64(-13943.89990234375), np.float64(-20680.43359375), np.float64(-27373.36669921875), np.float64(-34176.8857421875), np.float64(-41253.978515625), np.float64(-48882.3701171875), np.float64(-57208.310546875), np.float64(-62580.57517770588), np.float64(-64476.75184000116), np.float64(-62824.60723399882), np.float64(-56316.07994857632), np.float64(-47501.34028893302), np.float64(-37979.51570228292), np.float64(-28287.453234868557), np.float64(-21062.809800481875), np.float64(-19512.40287862043), np.float64(-23338.41986430735), np.float64(-31085.05853618235), np.float64(-39103.80755961985), np.float64(-47354.42181743235), np.float64(-55614.04779399485), np.float64(-63656.11029399485), np.float64(-71432.5023838386)]\n"
          ]
        }
      ]
    },
    {
      "cell_type": "code",
      "source": [
        "final_battery_size = sum(battery_capacity_list) / len(battery_capacity_list)\n",
        "final_PV_plant_size = sum(final_PV_plant_m2_list) / len(final_PV_plant_m2_list)\n",
        "\n",
        "print(f\"Final Averaged Battery Capacity: {final_battery_size}\")\n",
        "print(f\"Final Averaged PV Plant Size: {final_PV_plant_size}\")"
      ],
      "metadata": {
        "colab": {
          "base_uri": "https://localhost:8080/"
        },
        "id": "IBWNC_yRQ-pI",
        "outputId": "fcf5a7d5-ec15-498a-c5b6-2fa4e0036474"
      },
      "execution_count": 25,
      "outputs": [
        {
          "output_type": "stream",
          "name": "stdout",
          "text": [
            "Final Averaged Battery Capacity: 57706.92400050562\n",
            "Final Averaged PV Plant Size: 1304564487.4166667\n"
          ]
        }
      ]
    },
    {
      "cell_type": "markdown",
      "source": [
        "# Calculating TODAY'S Information"
      ],
      "metadata": {
        "id": "QyO8B-s8Y6jb"
      }
    },
    {
      "cell_type": "code",
      "source": [
        "'''Today's Hourly Solar PV Output & Surplus/Shortage Calculations'''\n",
        "\n",
        "amt_in_battery = 0\n",
        "\n",
        "for hour in range(24):\n",
        "  load_for_the_hour_Wh = (load_df.iloc[hour,1]) * 1000000\n",
        "  hour_GHI_Wh_m2 = (ghi_df.iloc[hour,1])\n",
        "\n",
        "  PV_with_bonus = 0.20 * 1.31\n",
        "  PR = 0.786\n",
        "\n",
        "  if hour_GHI_Wh_m2 > 0:\n",
        "    hour_PV_output_MWh = (hour_GHI_Wh_m2 * PV_with_bonus * PR * final_PV_plant_size) / 1000000\n",
        "    diff = hour_PV_output_MWh - (load_for_the_hour_Wh / 1000000)\n",
        "    print(\n",
        "        f\"{hour}: The Solar PV output: {hour_PV_output_MWh} MWh, \"\n",
        "        f\"Actual load: {load_for_the_hour_Wh / 1000000} MWh, \"\n",
        "        f\"{'Surplus of ' if diff >= 0 else 'Shortage of -'}{abs(diff)} MWh\"\n",
        "    )\n",
        "    if diff >= 0:\n",
        "      amt_in_battery += (diff)\n",
        "\n",
        "  else:\n",
        "    print(f'{hour}: Shortage of -{load_for_the_hour_Wh / 1000000} MWh')\n",
        "\n",
        "print(amt_in_battery)\n",
        "if amt_in_battery < final_battery_size:\n",
        "  print('GOT SPACE IN BATTERY')\n",
        "else:\n",
        "  print('NO SPACE IN BATTERY')"
      ],
      "metadata": {
        "colab": {
          "base_uri": "https://localhost:8080/"
        },
        "id": "muWXKgfUYNhV",
        "outputId": "80b99b0c-a202-47b3-817b-84fc411e4b32"
      },
      "execution_count": 30,
      "outputs": [
        {
          "output_type": "stream",
          "name": "stdout",
          "text": [
            "0: Shortage of -7685.093 MWh\n",
            "1: Shortage of -7156.707 MWh\n",
            "2: Shortage of -6732.706 MWh\n",
            "3: Shortage of -6442.014 MWh\n",
            "4: Shortage of -6328.8784 MWh\n",
            "5: Shortage of -6341.022 MWh\n",
            "6: Shortage of -6510.8657 MWh\n",
            "7: The Solar PV output: 17622.8286427015 MWh, Actual load: 6838.9023 MWh, Surplus of 10783.926342701501 MWh\n",
            "8: The Solar PV output: 46869.88582496019 MWh, Actual load: 7046.949 MWh, Surplus of 39822.93682496019 MWh\n",
            "9: The Solar PV output: 80117.42822295926 MWh, Actual load: 7328.2065 MWh, Surplus of 72789.22172295926 MWh\n",
            "10: The Solar PV output: 119131.06084633322 MWh, Actual load: 7572.7905 MWh, Surplus of 111558.27034633321 MWh\n",
            "11: The Solar PV output: 150482.38521243943 MWh, Actual load: 7843.742 MWh, Surplus of 142638.64321243943 MWh\n",
            "12: The Solar PV output: 171756.84962898135 MWh, Actual load: 8167.2134 MWh, Surplus of 163589.63622898134 MWh\n",
            "13: The Solar PV output: 174310.92014321504 MWh, Actual load: 8484.896 MWh, Surplus of 165826.02414321504 MWh\n",
            "14: The Solar PV output: 163057.43614884067 MWh, Actual load: 8830.728 MWh, Surplus of 154226.70814884067 MWh\n",
            "15: The Solar PV output: 132075.23098589442 MWh, Actual load: 9254.688 MWh, Surplus of 122820.54298589443 MWh\n",
            "16: The Solar PV output: 87630.66978134906 MWh, Actual load: 9659.067 MWh, Surplus of 77971.60278134907 MWh\n",
            "17: The Solar PV output: 42264.633677905855 MWh, Actual load: 10019.447 MWh, Surplus of 32245.186677905855 MWh\n",
            "18: The Solar PV output: 10226.908301293715 MWh, Actual load: 10153.843 MWh, Surplus of 73.06530129371458 MWh\n",
            "19: Shortage of -9991.49 MWh\n",
            "20: Shortage of -9671.202 MWh\n",
            "21: Shortage of -9373.929 MWh\n",
            "22: Shortage of -8919.265 MWh\n",
            "23: Shortage of -8334.597 MWh\n",
            "1094345.7647168739\n",
            "NO SPACE IN BATTERY\n"
          ]
        }
      ]
    },
    {
      "cell_type": "markdown",
      "source": [
        "# STEPS..."
      ],
      "metadata": {
        "id": "FMtI_LWdSRRs"
      }
    },
    {
      "cell_type": "markdown",
      "source": [
        "1) *Pick representative dates for each season (or better: pick a small set of 3–5 representative days per season).*\n",
        "2) *For each chosen date (or each day in a small seasonal sample) compute the hourly diff = PV − load, the cumulative running tally, and the battery capacity = abs(min(running_tally)).*\n",
        "3) Apply the 0.0001 convergence idea: instead of adding one hour at a time (your professor’s suggestion), it’s more meaningful with seasonal sampling to add days (or if you prefer, add hours across many days). For each season:\n",
        "\n",
        "* Start with 1 day, compute the average of the battery requirements (or average\n",
        "of absolute diffs), then add one more day from the same season, recompute the average, and stop when relative change < 0.0001.\n",
        "* This tells you the number of days needed from that season to reach a stable average.\n",
        "\n",
        "^^By Friday\n",
        "\n",
        "---\n",
        "\n",
        "Combine seasons into a final design. Options:\n",
        "\n",
        "* Conservative: choose the maximum battery size across seasons (safe but costly).\n",
        "\n",
        "* Weighted: weight each season by the number of days it represents (e.g., 90 days per season) and compute a weighted average battery requirement.\n",
        "\n",
        "* Risk-based: pick the 95th percentile battery size across all sampled days (trades cost vs. reliability).\n",
        "\n",
        "^^By Sunday\n"
      ],
      "metadata": {
        "id": "afLcR4cJGSQ0"
      }
    },
    {
      "cell_type": "markdown",
      "source": [
        "**Representative Dates**\n",
        "\n",
        "Spring: March 21, **April 21**, May 21\n",
        "\n",
        "Summer: June 21, **July 21**, August 21\n",
        "\n",
        "Fall: September 21, **October 21**, November 21\n",
        "\n",
        "Winter: December 21, **January 21**, February 21"
      ],
      "metadata": {
        "id": "da6QeBpoat0b"
      }
    }
  ]
}